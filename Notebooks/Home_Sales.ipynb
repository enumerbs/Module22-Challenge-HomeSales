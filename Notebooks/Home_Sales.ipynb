{
 "cells": [
  {
   "cell_type": "code",
   "execution_count": 1,
   "metadata": {
    "colab": {
     "base_uri": "https://localhost:8080/"
    },
    "id": "a_KW73O2e3dw",
    "outputId": "fa5fd2b3-e2de-491b-ee1c-405317ba7ebc"
   },
   "outputs": [],
   "source": [
    "# Import findspark and initialise. \n",
    "import findspark\n",
    "findspark.init()"
   ]
  },
  {
   "cell_type": "code",
   "execution_count": 2,
   "metadata": {
    "id": "2XbWNf1Te5fM"
   },
   "outputs": [],
   "source": [
    "# Import packages\n",
    "from pyspark.sql import SparkSession\n",
    "import time\n",
    "from pyspark.sql.types import StructType,StructField,StringType, DateType,IntegerType\n",
    "from pyspark import SparkFiles\n",
    "\n",
    "# Create a SparkSession\n",
    "spark = SparkSession.builder.appName(\"SparkSQL\").getOrCreate()"
   ]
  },
  {
   "cell_type": "code",
   "execution_count": 3,
   "metadata": {
    "colab": {
     "base_uri": "https://localhost:8080/"
    },
    "id": "wOJqxG_RPSwp",
    "outputId": "7857ef9f-5b04-405d-f5aa-e535dfe7870c"
   },
   "outputs": [],
   "source": [
    "# 1. Read in the AWS S3 bucket into a DataFrame.\n",
    "from pyspark import SparkFiles\n",
    "url = \"https://2u-data-curriculum-team.s3.amazonaws.com/dataviz-classroom/v1.2/22-big-data/home_sales_revised.csv\"\n",
    "\n",
    "spark.sparkContext.addFile(url)\n",
    "df = spark.read.csv(SparkFiles.get(\"home_sales_revised.csv\"), sep=\",\", header=True)\n"
   ]
  },
  {
   "cell_type": "code",
   "execution_count": 4,
   "metadata": {
    "id": "RoljcJ7WPpnm"
   },
   "outputs": [],
   "source": [
    "# 2. Create a temporary view of the DataFrame.\n",
    "df.createOrReplaceTempView('home_sales')\n"
   ]
  },
  {
   "cell_type": "code",
   "execution_count": 5,
   "metadata": {
    "colab": {
     "base_uri": "https://localhost:8080/"
    },
    "id": "L6fkwOeOmqvq",
    "outputId": "bdded620-79c4-488d-c7a5-91c6799c419e"
   },
   "outputs": [
    {
     "name": "stdout",
     "output_type": "stream",
     "text": [
      "+--------+-----------------+\n",
      "|YearSold|HouseAveragePrice|\n",
      "+--------+-----------------+\n",
      "|    2022|        296363.88|\n",
      "|    2021|        301819.44|\n",
      "|    2020|        298353.78|\n",
      "|    2019|         300263.7|\n",
      "+--------+-----------------+\n",
      "\n"
     ]
    }
   ],
   "source": [
    "# 3. What is the average price for a four bedroom house sold per year, rounded to two decimal places?\n",
    "spark.sql(\"\"\"\n",
    "SELECT   YEAR(date) as YearSold\n",
    "        ,ROUND(AVG(price),2) as HouseAveragePrice\n",
    "  FROM home_sales\n",
    " WHERE bedrooms = 4\n",
    " GROUP BY YEAR(date)\n",
    " ORDER BY YEAR(date) DESC\n",
    "\"\"\").show()\n"
   ]
  },
  {
   "cell_type": "code",
   "execution_count": 6,
   "metadata": {
    "colab": {
     "base_uri": "https://localhost:8080/"
    },
    "id": "l8p_tUS8h8it",
    "outputId": "65806e5f-6262-41c0-ff65-5107464e5c4d"
   },
   "outputs": [
    {
     "name": "stdout",
     "output_type": "stream",
     "text": [
      "+---------+-----------------+\n",
      "|YearBuilt|HouseAveragePrice|\n",
      "+---------+-----------------+\n",
      "|     2017|        292676.79|\n",
      "|     2016|        290555.07|\n",
      "|     2015|         288770.3|\n",
      "|     2014|        290852.27|\n",
      "|     2013|        295962.27|\n",
      "|     2012|        293683.19|\n",
      "|     2011|        291117.47|\n",
      "|     2010|        292859.62|\n",
      "+---------+-----------------+\n",
      "\n"
     ]
    }
   ],
   "source": [
    "# 4. What is the average price of a home for each year the home was built,\n",
    "# that have 3 bedrooms and 3 bathrooms, rounded to two decimal places?\n",
    "spark.sql(\"\"\"\n",
    "SELECT   YEAR(date_built) as YearBuilt\n",
    "        ,ROUND(AVG(price),2) as HouseAveragePrice\n",
    "  FROM home_sales\n",
    " WHERE (bedrooms = 3 AND bathrooms = 3)\n",
    " GROUP BY YEAR(date_built)\n",
    " ORDER BY YEAR(date_built) DESC\n",
    "\"\"\").show()\n"
   ]
  },
  {
   "cell_type": "code",
   "execution_count": 7,
   "metadata": {
    "colab": {
     "base_uri": "https://localhost:8080/"
    },
    "id": "Y-Eytz64liDU",
    "outputId": "17119810-56ad-40c3-de5e-c3db57e43bcc"
   },
   "outputs": [
    {
     "name": "stdout",
     "output_type": "stream",
     "text": [
      "+---------+-----------------+\n",
      "|YearBuilt|HouseAveragePrice|\n",
      "+---------+-----------------+\n",
      "|     2017|        280527.62|\n",
      "|     2016|         293965.1|\n",
      "|     2015|        297609.97|\n",
      "|     2014|        297619.46|\n",
      "|     2013|        303676.79|\n",
      "|     2012|        307539.97|\n",
      "|     2011|        276553.81|\n",
      "|     2010|        285010.22|\n",
      "+---------+-----------------+\n",
      "\n"
     ]
    }
   ],
   "source": [
    "# 5. What is the average price of a home for each year the home was built,\n",
    "# that have 3 bedrooms, 3 bathrooms, with two floors,\n",
    "# and are greater than or equal to 2,000 square feet, rounded to two decimal places?\n",
    "spark.sql(\"\"\"\n",
    "SELECT   YEAR(date_built) as YearBuilt\n",
    "        ,ROUND(AVG(price),2) as HouseAveragePrice\n",
    "  FROM home_sales\n",
    " WHERE (bedrooms = 3 AND bathrooms = 3)\n",
    "   AND floors = 2\n",
    "   AND sqft_living > 2000\n",
    " GROUP BY YEAR(date_built)\n",
    " ORDER BY YEAR(date_built) DESC\n",
    "\"\"\").show()\n"
   ]
  },
  {
   "cell_type": "code",
   "execution_count": 8,
   "metadata": {
    "colab": {
     "base_uri": "https://localhost:8080/"
    },
    "id": "GUrfgOX1pCRd",
    "outputId": "17c25774-855e-4290-a4bd-a04902bdc13a"
   },
   "outputs": [
    {
     "name": "stdout",
     "output_type": "stream",
     "text": [
      "+----------+-----------------+\n",
      "|ViewRating|HouseAveragePrice|\n",
      "+----------+-----------------+\n",
      "|        99|       1061201.42|\n",
      "|        98|       1053739.33|\n",
      "|        97|       1129040.15|\n",
      "|        96|       1017815.92|\n",
      "|        95|        1054325.6|\n",
      "|        94|        1033536.2|\n",
      "|        93|       1026006.06|\n",
      "|        92|        970402.55|\n",
      "|        91|       1137372.73|\n",
      "|        90|       1062654.16|\n",
      "|        89|       1107839.15|\n",
      "|        88|       1031719.35|\n",
      "|        87|        1072285.2|\n",
      "|        86|       1070444.25|\n",
      "|        85|       1056336.74|\n",
      "|        84|       1117233.13|\n",
      "|        83|       1033965.93|\n",
      "|        82|        1063498.0|\n",
      "|        81|       1053472.79|\n",
      "|        80|        991767.38|\n",
      "+----------+-----------------+\n",
      "only showing top 20 rows\n",
      "\n",
      "--- 2.0894150733947754 seconds ---\n"
     ]
    }
   ],
   "source": [
    "# 6. What is the average price of a home per \"view\" rating, rounded to two decimal places,\n",
    "# having an average home price greater than or equal to $350,000? Order by descending view rating. \n",
    "# Although this is a small dataset, determine the run time for this query.\n",
    "\n",
    "start_time = time.time()\n",
    "\n",
    "query_avg_house_price_per_view_rating = \"\"\"\n",
    "SELECT   view as ViewRating\n",
    "        ,ROUND(AVG(price),2) as HouseAveragePrice\n",
    "  FROM home_sales\n",
    " GROUP BY view\n",
    " HAVING HouseAveragePrice >= 350000\n",
    " ORDER BY view DESC\n",
    "\"\"\"\n",
    "\n",
    "spark.sql(query_avg_house_price_per_view_rating).show()\n",
    "\n",
    "print(\"--- %s seconds ---\" % (time.time() - start_time))"
   ]
  },
  {
   "cell_type": "code",
   "execution_count": 9,
   "metadata": {
    "colab": {
     "base_uri": "https://localhost:8080/"
    },
    "id": "KAhk3ZD2tFy8",
    "outputId": "0a8f132d-40a8-4bd4-b5f2-2847e98427f5"
   },
   "outputs": [
    {
     "data": {
      "text/plain": [
       "DataFrame[]"
      ]
     },
     "execution_count": 9,
     "metadata": {},
     "output_type": "execute_result"
    }
   ],
   "source": [
    "# 7. Cache the the temporary table home_sales.\n",
    "spark.sql(\"cache table home_sales\")"
   ]
  },
  {
   "cell_type": "code",
   "execution_count": 10,
   "metadata": {
    "colab": {
     "base_uri": "https://localhost:8080/"
    },
    "id": "4opVhbvxtL-i",
    "outputId": "38ec8487-795f-4550-b50c-fcc6f2b7c769"
   },
   "outputs": [
    {
     "data": {
      "text/plain": [
       "True"
      ]
     },
     "execution_count": 10,
     "metadata": {},
     "output_type": "execute_result"
    }
   ],
   "source": [
    "# 8. Check if the table is cached.\n",
    "spark.catalog.isCached('home_sales')"
   ]
  },
  {
   "cell_type": "code",
   "execution_count": 11,
   "metadata": {
    "colab": {
     "base_uri": "https://localhost:8080/"
    },
    "id": "5GnL46lwTSEk",
    "outputId": "09a16c73-194d-4371-95d1-ee64fe83b91c"
   },
   "outputs": [
    {
     "name": "stdout",
     "output_type": "stream",
     "text": [
      "+----------+-----------------+\n",
      "|ViewRating|HouseAveragePrice|\n",
      "+----------+-----------------+\n",
      "|        99|       1061201.42|\n",
      "|        98|       1053739.33|\n",
      "|        97|       1129040.15|\n",
      "|        96|       1017815.92|\n",
      "|        95|        1054325.6|\n",
      "|        94|        1033536.2|\n",
      "|        93|       1026006.06|\n",
      "|        92|        970402.55|\n",
      "|        91|       1137372.73|\n",
      "|        90|       1062654.16|\n",
      "|        89|       1107839.15|\n",
      "|        88|       1031719.35|\n",
      "|        87|        1072285.2|\n",
      "|        86|       1070444.25|\n",
      "|        85|       1056336.74|\n",
      "|        84|       1117233.13|\n",
      "|        83|       1033965.93|\n",
      "|        82|        1063498.0|\n",
      "|        81|       1053472.79|\n",
      "|        80|        991767.38|\n",
      "+----------+-----------------+\n",
      "only showing top 20 rows\n",
      "\n",
      "--- 1.6220743656158447 seconds ---\n"
     ]
    }
   ],
   "source": [
    "# 9. Using the cached data, run the last query above, that calculates \n",
    "# the average price of a home per \"view\" rating, rounded to two decimal places,\n",
    "# having an average home price greater than or equal to $350,000. \n",
    "# Determine the runtime and compare it to the uncached runtime.\n",
    "\n",
    "start_time = time.time()\n",
    "\n",
    "spark.sql(query_avg_house_price_per_view_rating).show()\n",
    "\n",
    "print(\"--- %s seconds ---\" % (time.time() - start_time))\n"
   ]
  },
  {
   "cell_type": "code",
   "execution_count": 12,
   "metadata": {
    "id": "Qm12WN9isHBR"
   },
   "outputs": [],
   "source": [
    "# 10. Partition by the \"date_built\" field on the formatted parquet home sales data \n",
    "df.write.partitionBy(\"date_built\").mode(\"overwrite\").parquet(\"home_sales_partitioned\")"
   ]
  },
  {
   "cell_type": "code",
   "execution_count": 13,
   "metadata": {
    "id": "AZ7BgY61sRqY"
   },
   "outputs": [],
   "source": [
    "# 11. Read the formatted parquet data.\n",
    "p_df_p=spark.read.parquet('home_sales_partitioned')"
   ]
  },
  {
   "cell_type": "code",
   "execution_count": 14,
   "metadata": {
    "id": "J6MJkHfvVcvh"
   },
   "outputs": [],
   "source": [
    "# 12. Create a temporary table for the parquet data.\n",
    "p_df_p.createOrReplaceTempView('home_sales')"
   ]
  },
  {
   "cell_type": "code",
   "execution_count": 15,
   "metadata": {
    "colab": {
     "base_uri": "https://localhost:8080/"
    },
    "id": "G_Vhb52rU1Sn",
    "outputId": "a0b8d0c4-55ed-4c6c-bfd8-4c8c5334838e"
   },
   "outputs": [
    {
     "name": "stdout",
     "output_type": "stream",
     "text": [
      "+----------+-----------------+\n",
      "|ViewRating|HouseAveragePrice|\n",
      "+----------+-----------------+\n",
      "|        99|       1061201.42|\n",
      "|        98|       1053739.33|\n",
      "|        97|       1129040.15|\n",
      "|        96|       1017815.92|\n",
      "|        95|        1054325.6|\n",
      "|        94|        1033536.2|\n",
      "|        93|       1026006.06|\n",
      "|        92|        970402.55|\n",
      "|        91|       1137372.73|\n",
      "|        90|       1062654.16|\n",
      "|        89|       1107839.15|\n",
      "|        88|       1031719.35|\n",
      "|        87|        1072285.2|\n",
      "|        86|       1070444.25|\n",
      "|        85|       1056336.74|\n",
      "|        84|       1117233.13|\n",
      "|        83|       1033965.93|\n",
      "|        82|        1063498.0|\n",
      "|        81|       1053472.79|\n",
      "|        80|        991767.38|\n",
      "+----------+-----------------+\n",
      "only showing top 20 rows\n",
      "\n",
      "--- 2.1819822788238525 seconds ---\n"
     ]
    }
   ],
   "source": [
    "# 13. Using the parquet DataFrame, run the last query above, that calculates \n",
    "# the average price of a home per \"view\" rating, rounded to two decimal places,\n",
    "# having an average home price greater than or equal to $350,000. \n",
    "# Determine the runtime and compare it to the cached runtime.\n",
    "\n",
    "start_time = time.time()\n",
    "\n",
    "spark.sql(query_avg_house_price_per_view_rating).show()\n",
    "\n",
    "print(\"--- %s seconds ---\" % (time.time() - start_time))"
   ]
  },
  {
   "cell_type": "code",
   "execution_count": 16,
   "metadata": {
    "colab": {
     "base_uri": "https://localhost:8080/"
    },
    "id": "hjjYzQGjtbq8",
    "outputId": "830549fd-bb41-451b-9183-5ebf6e3e470b"
   },
   "outputs": [
    {
     "data": {
      "text/plain": [
       "DataFrame[]"
      ]
     },
     "execution_count": 16,
     "metadata": {},
     "output_type": "execute_result"
    }
   ],
   "source": [
    "# 14. Uncache the home_sales temporary table.\n",
    "spark.sql(\"uncache table home_sales\")"
   ]
  },
  {
   "cell_type": "code",
   "execution_count": 17,
   "metadata": {
    "colab": {
     "base_uri": "https://localhost:8080/"
    },
    "id": "Sy9NBvO7tlmm",
    "outputId": "be73e0e3-5e85-4794-aad9-025fb6fa84a7"
   },
   "outputs": [
    {
     "data": {
      "text/plain": [
       "False"
      ]
     },
     "execution_count": 17,
     "metadata": {},
     "output_type": "execute_result"
    }
   ],
   "source": [
    "# 15. Check if the home_sales is no longer cached\n",
    "spark.catalog.isCached('home_sales')\n"
   ]
  },
  {
   "cell_type": "code",
   "execution_count": 18,
   "metadata": {},
   "outputs": [],
   "source": [
    "# Cleanup / shutdown Spark session\n",
    "spark.stop()"
   ]
  }
 ],
 "metadata": {
  "colab": {
   "collapsed_sections": [],
   "name": "Copy of Home_Sales_solution.ipynb",
   "provenance": []
  },
  "kernelspec": {
   "display_name": "Python 3 (ipykernel)",
   "language": "python",
   "name": "python3"
  },
  "language_info": {
   "codemirror_mode": {
    "name": "ipython",
    "version": 3
   },
   "file_extension": ".py",
   "mimetype": "text/x-python",
   "name": "python",
   "nbconvert_exporter": "python",
   "pygments_lexer": "ipython3",
   "version": "3.10.14"
  },
  "nteract": {
   "version": "0.28.0"
  }
 },
 "nbformat": 4,
 "nbformat_minor": 1
}
