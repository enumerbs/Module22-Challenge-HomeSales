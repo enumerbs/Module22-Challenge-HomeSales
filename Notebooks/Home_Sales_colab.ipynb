{
 "cells": [
  {
   "cell_type": "code",
   "execution_count": 1,
   "metadata": {
    "colab": {
     "base_uri": "https://localhost:8080/"
    },
    "executionInfo": {
     "elapsed": 43928,
     "status": "ok",
     "timestamp": 1729679197904,
     "user": {
      "displayName": "Greg Presneill",
      "userId": "00208314880832960294"
     },
     "user_tz": -660
    },
    "id": "a_KW73O2e3dw",
    "outputId": "24fa5fb5-dc35-47c4-95a9-0b63a1454880"
   },
   "outputs": [
    {
     "name": "stdout",
     "output_type": "stream",
     "text": [
      "Hit:1 http://archive.ubuntu.com/ubuntu jammy InRelease\n",
      "Get:2 http://archive.ubuntu.com/ubuntu jammy-updates InRelease [128 kB]\n",
      "Get:3 http://archive.ubuntu.com/ubuntu jammy-backports InRelease [127 kB]\n",
      "Get:4 http://security.ubuntu.com/ubuntu jammy-security InRelease [129 kB]\n",
      "Get:5 https://cloud.r-project.org/bin/linux/ubuntu jammy-cran40/ InRelease [3,626 B]\n",
      "Ign:6 https://r2u.stat.illinois.edu/ubuntu jammy InRelease\n",
      "Get:7 https://r2u.stat.illinois.edu/ubuntu jammy Release [5,713 B]\n",
      "Get:8 https://r2u.stat.illinois.edu/ubuntu jammy Release.gpg [793 B]\n",
      "Hit:9 https://ppa.launchpadcontent.net/deadsnakes/ppa/ubuntu jammy InRelease\n",
      "Hit:10 https://ppa.launchpadcontent.net/graphics-drivers/ppa/ubuntu jammy InRelease\n",
      "Hit:11 https://ppa.launchpadcontent.net/ubuntugis/ppa/ubuntu jammy InRelease\n",
      "Get:12 http://archive.ubuntu.com/ubuntu jammy-updates/main amd64 Packages [2,654 kB]\n",
      "Get:13 http://archive.ubuntu.com/ubuntu jammy-updates/restricted amd64 Packages [3,283 kB]\n",
      "Get:14 http://archive.ubuntu.com/ubuntu jammy-updates/universe amd64 Packages [1,450 kB]\n",
      "Get:15 https://developer.download.nvidia.com/compute/cuda/repos/ubuntu2204/x86_64  InRelease [1,581 B]\n",
      "Get:16 http://security.ubuntu.com/ubuntu jammy-security/universe amd64 Packages [1,162 kB]\n",
      "Get:17 http://security.ubuntu.com/ubuntu jammy-security/main amd64 Packages [2,374 kB]\n",
      "Get:18 https://r2u.stat.illinois.edu/ubuntu jammy/main all Packages [8,412 kB]\n",
      "Get:19 https://r2u.stat.illinois.edu/ubuntu jammy/main amd64 Packages [2,601 kB]\n",
      "Get:20 https://developer.download.nvidia.com/compute/cuda/repos/ubuntu2204/x86_64  Packages [1,068 kB]\n",
      "Fetched 23.4 MB in 7s (3,349 kB/s)\n",
      "Reading package lists... Done\n",
      "W: Skipping acquire of configured file 'main/source/Sources' as repository 'https://r2u.stat.illinois.edu/ubuntu jammy InRelease' does not seem to provide it (sources.list entry misspelt?)\n"
     ]
    }
   ],
   "source": [
    "import os\n",
    "# Find the latest version of spark 3.x  from http://www.apache.org/dist/spark/ and enter as the spark version\n",
    "# For example:\n",
    "# spark_version = 'spark-3.4.0'\n",
    "spark_version = 'spark-3.5.3'\n",
    "os.environ['SPARK_VERSION']=spark_version\n",
    "\n",
    "# Install Spark and Java\n",
    "!apt-get update\n",
    "!apt-get install openjdk-11-jdk-headless -qq > /dev/null\n",
    "!wget -q http://www.apache.org/dist/spark/$SPARK_VERSION/$SPARK_VERSION-bin-hadoop3.tgz\n",
    "!tar xf $SPARK_VERSION-bin-hadoop3.tgz\n",
    "!pip install -q findspark\n",
    "\n",
    "# Set Environment Variables\n",
    "os.environ[\"JAVA_HOME\"] = \"/usr/lib/jvm/java-11-openjdk-amd64\"\n",
    "os.environ[\"SPARK_HOME\"] = f\"/content/{spark_version}-bin-hadoop3\"\n",
    "\n",
    "# Start a SparkSession\n",
    "import findspark\n",
    "findspark.init()"
   ]
  },
  {
   "cell_type": "code",
   "execution_count": 3,
   "metadata": {
    "executionInfo": {
     "elapsed": 1718,
     "status": "ok",
     "timestamp": 1729679245485,
     "user": {
      "displayName": "Greg Presneill",
      "userId": "00208314880832960294"
     },
     "user_tz": -660
    },
    "id": "2XbWNf1Te5fM"
   },
   "outputs": [],
   "source": [
    "# Import packages\n",
    "from pyspark.sql import SparkSession\n",
    "import time\n",
    "\n",
    "# Create a SparkSession\n",
    "spark = SparkSession.builder.appName(\"SparkSQL\").getOrCreate()"
   ]
  },
  {
   "cell_type": "code",
   "execution_count": 4,
   "metadata": {
    "executionInfo": {
     "elapsed": 10573,
     "status": "ok",
     "timestamp": 1729679260369,
     "user": {
      "displayName": "Greg Presneill",
      "userId": "00208314880832960294"
     },
     "user_tz": -660
    },
    "id": "wOJqxG_RPSwp"
   },
   "outputs": [],
   "source": [
    "# 1. Read in the AWS S3 bucket into a DataFrame.\n",
    "from pyspark import SparkFiles\n",
    "url = \"https://2u-data-curriculum-team.s3.amazonaws.com/dataviz-classroom/v1.2/22-big-data/home_sales_revised.csv\"\n",
    "\n",
    "spark.sparkContext.addFile(url)\n",
    "df = spark.read.csv(SparkFiles.get(\"home_sales_revised.csv\"), sep=\",\", header=True)\n"
   ]
  },
  {
   "cell_type": "code",
   "execution_count": 5,
   "metadata": {
    "executionInfo": {
     "elapsed": 363,
     "status": "ok",
     "timestamp": 1729679262708,
     "user": {
      "displayName": "Greg Presneill",
      "userId": "00208314880832960294"
     },
     "user_tz": -660
    },
    "id": "RoljcJ7WPpnm"
   },
   "outputs": [],
   "source": [
    "# 2. Create a temporary view of the DataFrame.\n",
    "df.createOrReplaceTempView('home_sales')\n"
   ]
  },
  {
   "cell_type": "code",
   "execution_count": 6,
   "metadata": {
    "colab": {
     "base_uri": "https://localhost:8080/"
    },
    "executionInfo": {
     "elapsed": 4270,
     "status": "ok",
     "timestamp": 1729679270809,
     "user": {
      "displayName": "Greg Presneill",
      "userId": "00208314880832960294"
     },
     "user_tz": -660
    },
    "id": "L6fkwOeOmqvq",
    "outputId": "bfaf3e2d-525a-4180-bd99-b87f16064769"
   },
   "outputs": [
    {
     "name": "stdout",
     "output_type": "stream",
     "text": [
      "+--------+-----------------+\n",
      "|YearSold|HouseAveragePrice|\n",
      "+--------+-----------------+\n",
      "|    2022|        296363.88|\n",
      "|    2021|        301819.44|\n",
      "|    2020|        298353.78|\n",
      "|    2019|         300263.7|\n",
      "+--------+-----------------+\n",
      "\n"
     ]
    }
   ],
   "source": [
    "# 3. What is the average price for a four bedroom house sold per year, rounded to two decimal places?\n",
    "spark.sql(\"\"\"\n",
    "SELECT   YEAR(date) as YearSold\n",
    "        ,ROUND(AVG(price),2) as HouseAveragePrice\n",
    "  FROM home_sales\n",
    " WHERE bedrooms = 4\n",
    " GROUP BY YEAR(date)\n",
    " ORDER BY YEAR(date) DESC\n",
    "\"\"\").show()\n"
   ]
  },
  {
   "cell_type": "code",
   "execution_count": 7,
   "metadata": {
    "colab": {
     "base_uri": "https://localhost:8080/"
    },
    "executionInfo": {
     "elapsed": 2675,
     "status": "ok",
     "timestamp": 1729679281117,
     "user": {
      "displayName": "Greg Presneill",
      "userId": "00208314880832960294"
     },
     "user_tz": -660
    },
    "id": "l8p_tUS8h8it",
    "outputId": "d6fd9b2d-7d70-4daf-f533-623bb25b858c"
   },
   "outputs": [
    {
     "name": "stdout",
     "output_type": "stream",
     "text": [
      "+---------+-----------------+\n",
      "|YearBuilt|HouseAveragePrice|\n",
      "+---------+-----------------+\n",
      "|     2017|        292676.79|\n",
      "|     2016|        290555.07|\n",
      "|     2015|         288770.3|\n",
      "|     2014|        290852.27|\n",
      "|     2013|        295962.27|\n",
      "|     2012|        293683.19|\n",
      "|     2011|        291117.47|\n",
      "|     2010|        292859.62|\n",
      "+---------+-----------------+\n",
      "\n"
     ]
    }
   ],
   "source": [
    "# 4. What is the average price of a home for each year the home was built,\n",
    "# that have 3 bedrooms and 3 bathrooms, rounded to two decimal places?\n",
    "spark.sql(\"\"\"\n",
    "SELECT   YEAR(date_built) as YearBuilt\n",
    "        ,ROUND(AVG(price),2) as HouseAveragePrice\n",
    "  FROM home_sales\n",
    " WHERE (bedrooms = 3 AND bathrooms = 3)\n",
    " GROUP BY YEAR(date_built)\n",
    " ORDER BY YEAR(date_built) DESC\n",
    "\"\"\").show()\n"
   ]
  },
  {
   "cell_type": "code",
   "execution_count": 8,
   "metadata": {
    "colab": {
     "base_uri": "https://localhost:8080/"
    },
    "executionInfo": {
     "elapsed": 1518,
     "status": "ok",
     "timestamp": 1729679286360,
     "user": {
      "displayName": "Greg Presneill",
      "userId": "00208314880832960294"
     },
     "user_tz": -660
    },
    "id": "Y-Eytz64liDU",
    "outputId": "3a31956f-dfaf-4c3d-b722-a78deed9bccb"
   },
   "outputs": [
    {
     "name": "stdout",
     "output_type": "stream",
     "text": [
      "+---------+-----------------+\n",
      "|YearBuilt|HouseAveragePrice|\n",
      "+---------+-----------------+\n",
      "|     2017|        280527.62|\n",
      "|     2016|         293965.1|\n",
      "|     2015|        297609.97|\n",
      "|     2014|        297619.46|\n",
      "|     2013|        303676.79|\n",
      "|     2012|        307539.97|\n",
      "|     2011|        276553.81|\n",
      "|     2010|        285010.22|\n",
      "+---------+-----------------+\n",
      "\n"
     ]
    }
   ],
   "source": [
    "# 5. What is the average price of a home for each year the home was built,\n",
    "# that have 3 bedrooms, 3 bathrooms, with two floors,\n",
    "# and are greater than or equal to 2,000 square feet, rounded to two decimal places?\n",
    "spark.sql(\"\"\"\n",
    "SELECT   YEAR(date_built) as YearBuilt\n",
    "        ,ROUND(AVG(price),2) as HouseAveragePrice\n",
    "  FROM home_sales\n",
    " WHERE (bedrooms = 3 AND bathrooms = 3)\n",
    "   AND floors = 2\n",
    "   AND sqft_living > 2000\n",
    " GROUP BY YEAR(date_built)\n",
    " ORDER BY YEAR(date_built) DESC\n",
    "\"\"\").show()\n"
   ]
  },
  {
   "cell_type": "code",
   "execution_count": 9,
   "metadata": {
    "colab": {
     "base_uri": "https://localhost:8080/"
    },
    "executionInfo": {
     "elapsed": 1530,
     "status": "ok",
     "timestamp": 1729679293623,
     "user": {
      "displayName": "Greg Presneill",
      "userId": "00208314880832960294"
     },
     "user_tz": -660
    },
    "id": "GUrfgOX1pCRd",
    "outputId": "b23a984f-c022-437a-bde7-f99a96ce7204"
   },
   "outputs": [
    {
     "name": "stdout",
     "output_type": "stream",
     "text": [
      "+----------+-----------------+\n",
      "|ViewRating|HouseAveragePrice|\n",
      "+----------+-----------------+\n",
      "|        99|       1061201.42|\n",
      "|        98|       1053739.33|\n",
      "|        97|       1129040.15|\n",
      "|        96|       1017815.92|\n",
      "|        95|        1054325.6|\n",
      "|        94|        1033536.2|\n",
      "|        93|       1026006.06|\n",
      "|        92|        970402.55|\n",
      "|        91|       1137372.73|\n",
      "|        90|       1062654.16|\n",
      "|        89|       1107839.15|\n",
      "|        88|       1031719.35|\n",
      "|        87|        1072285.2|\n",
      "|        86|       1070444.25|\n",
      "|        85|       1056336.74|\n",
      "|        84|       1117233.13|\n",
      "|        83|       1033965.93|\n",
      "|        82|        1063498.0|\n",
      "|        81|       1053472.79|\n",
      "|        80|        991767.38|\n",
      "+----------+-----------------+\n",
      "only showing top 20 rows\n",
      "\n",
      "--- 1.2122406959533691 seconds ---\n"
     ]
    }
   ],
   "source": [
    "# 6. What is the average price of a home per \"view\" rating, rounded to two decimal places,\n",
    "# having an average home price greater than or equal to $350,000? Order by descending view rating.\n",
    "# Although this is a small dataset, determine the run time for this query.\n",
    "\n",
    "start_time = time.time()\n",
    "\n",
    "query_avg_house_price_per_view_rating = \"\"\"\n",
    "SELECT   view as ViewRating\n",
    "        ,ROUND(AVG(price),2) as HouseAveragePrice\n",
    "  FROM home_sales\n",
    " GROUP BY view\n",
    "HAVING HouseAveragePrice >= 350000\n",
    " ORDER BY view DESC\n",
    "\"\"\"\n",
    "\n",
    "spark.sql(query_avg_house_price_per_view_rating).show()\n",
    "\n",
    "print(\"--- %s seconds ---\" % (time.time() - start_time))"
   ]
  },
  {
   "cell_type": "code",
   "execution_count": 10,
   "metadata": {
    "colab": {
     "base_uri": "https://localhost:8080/"
    },
    "executionInfo": {
     "elapsed": 2821,
     "status": "ok",
     "timestamp": 1729679303478,
     "user": {
      "displayName": "Greg Presneill",
      "userId": "00208314880832960294"
     },
     "user_tz": -660
    },
    "id": "KAhk3ZD2tFy8",
    "outputId": "3a4c2dfc-b29b-4569-cbb3-526b14049aae"
   },
   "outputs": [
    {
     "data": {
      "text/plain": [
       "DataFrame[]"
      ]
     },
     "execution_count": 10,
     "metadata": {},
     "output_type": "execute_result"
    }
   ],
   "source": [
    "# 7. Cache the the temporary table home_sales.\n",
    "spark.sql(\"cache table home_sales\")"
   ]
  },
  {
   "cell_type": "code",
   "execution_count": 11,
   "metadata": {
    "colab": {
     "base_uri": "https://localhost:8080/"
    },
    "executionInfo": {
     "elapsed": 531,
     "status": "ok",
     "timestamp": 1729679307184,
     "user": {
      "displayName": "Greg Presneill",
      "userId": "00208314880832960294"
     },
     "user_tz": -660
    },
    "id": "4opVhbvxtL-i",
    "outputId": "0aa0e53c-972f-486f-df48-9b4dc2f0bacb"
   },
   "outputs": [
    {
     "data": {
      "text/plain": [
       "True"
      ]
     },
     "execution_count": 11,
     "metadata": {},
     "output_type": "execute_result"
    }
   ],
   "source": [
    "# 8. Check if the table is cached.\n",
    "spark.catalog.isCached('home_sales')"
   ]
  },
  {
   "cell_type": "code",
   "execution_count": 12,
   "metadata": {
    "colab": {
     "base_uri": "https://localhost:8080/"
    },
    "executionInfo": {
     "elapsed": 716,
     "status": "ok",
     "timestamp": 1729679324462,
     "user": {
      "displayName": "Greg Presneill",
      "userId": "00208314880832960294"
     },
     "user_tz": -660
    },
    "id": "5GnL46lwTSEk",
    "outputId": "65e811ed-010c-4652-b366-16ce9c421932"
   },
   "outputs": [
    {
     "name": "stdout",
     "output_type": "stream",
     "text": [
      "+----------+-----------------+\n",
      "|ViewRating|HouseAveragePrice|\n",
      "+----------+-----------------+\n",
      "|        99|       1061201.42|\n",
      "|        98|       1053739.33|\n",
      "|        97|       1129040.15|\n",
      "|        96|       1017815.92|\n",
      "|        95|        1054325.6|\n",
      "|        94|        1033536.2|\n",
      "|        93|       1026006.06|\n",
      "|        92|        970402.55|\n",
      "|        91|       1137372.73|\n",
      "|        90|       1062654.16|\n",
      "|        89|       1107839.15|\n",
      "|        88|       1031719.35|\n",
      "|        87|        1072285.2|\n",
      "|        86|       1070444.25|\n",
      "|        85|       1056336.74|\n",
      "|        84|       1117233.13|\n",
      "|        83|       1033965.93|\n",
      "|        82|        1063498.0|\n",
      "|        81|       1053472.79|\n",
      "|        80|        991767.38|\n",
      "+----------+-----------------+\n",
      "only showing top 20 rows\n",
      "\n",
      "--- 0.5236120223999023 seconds ---\n"
     ]
    }
   ],
   "source": [
    "# 9. Using the cached data, run the last query above, that calculates\n",
    "# the average price of a home per \"view\" rating, rounded to two decimal places,\n",
    "# having an average home price greater than or equal to $350,000.\n",
    "# Determine the runtime and compare it to the uncached runtime.\n",
    "\n",
    "start_time = time.time()\n",
    "\n",
    "spark.sql(query_avg_house_price_per_view_rating).show()\n",
    "\n",
    "print(\"--- %s seconds ---\" % (time.time() - start_time))\n"
   ]
  },
  {
   "cell_type": "code",
   "execution_count": 13,
   "metadata": {
    "executionInfo": {
     "elapsed": 5139,
     "status": "ok",
     "timestamp": 1729679342484,
     "user": {
      "displayName": "Greg Presneill",
      "userId": "00208314880832960294"
     },
     "user_tz": -660
    },
    "id": "Qm12WN9isHBR"
   },
   "outputs": [],
   "source": [
    "# 10. Partition by the \"date_built\" field on the formatted parquet home sales data\n",
    "df.write.partitionBy(\"date_built\").mode(\"overwrite\").parquet(\"home_sales_partitioned\")"
   ]
  },
  {
   "cell_type": "code",
   "execution_count": 14,
   "metadata": {
    "executionInfo": {
     "elapsed": 739,
     "status": "ok",
     "timestamp": 1729679360612,
     "user": {
      "displayName": "Greg Presneill",
      "userId": "00208314880832960294"
     },
     "user_tz": -660
    },
    "id": "AZ7BgY61sRqY"
   },
   "outputs": [],
   "source": [
    "# 11. Read the parquet formatted data.\n",
    "p_df_p=spark.read.parquet('home_sales_partitioned')"
   ]
  },
  {
   "cell_type": "code",
   "execution_count": 15,
   "metadata": {
    "executionInfo": {
     "elapsed": 323,
     "status": "ok",
     "timestamp": 1729679363698,
     "user": {
      "displayName": "Greg Presneill",
      "userId": "00208314880832960294"
     },
     "user_tz": -660
    },
    "id": "J6MJkHfvVcvh"
   },
   "outputs": [],
   "source": [
    "# 12. Create a temporary table for the parquet data.\n",
    "p_df_p.createOrReplaceTempView('home_sales')"
   ]
  },
  {
   "cell_type": "code",
   "execution_count": 16,
   "metadata": {
    "colab": {
     "base_uri": "https://localhost:8080/"
    },
    "executionInfo": {
     "elapsed": 1470,
     "status": "ok",
     "timestamp": 1729679367673,
     "user": {
      "displayName": "Greg Presneill",
      "userId": "00208314880832960294"
     },
     "user_tz": -660
    },
    "id": "G_Vhb52rU1Sn",
    "outputId": "0098a931-9439-452c-81a0-af9a33ae943b"
   },
   "outputs": [
    {
     "name": "stdout",
     "output_type": "stream",
     "text": [
      "+----------+-----------------+\n",
      "|ViewRating|HouseAveragePrice|\n",
      "+----------+-----------------+\n",
      "|        99|       1061201.42|\n",
      "|        98|       1053739.33|\n",
      "|        97|       1129040.15|\n",
      "|        96|       1017815.92|\n",
      "|        95|        1054325.6|\n",
      "|        94|        1033536.2|\n",
      "|        93|       1026006.06|\n",
      "|        92|        970402.55|\n",
      "|        91|       1137372.73|\n",
      "|        90|       1062654.16|\n",
      "|        89|       1107839.15|\n",
      "|        88|       1031719.35|\n",
      "|        87|        1072285.2|\n",
      "|        86|       1070444.25|\n",
      "|        85|       1056336.74|\n",
      "|        84|       1117233.13|\n",
      "|        83|       1033965.93|\n",
      "|        82|        1063498.0|\n",
      "|        81|       1053472.79|\n",
      "|        80|        991767.38|\n",
      "+----------+-----------------+\n",
      "only showing top 20 rows\n",
      "\n",
      "--- 1.0514276027679443 seconds ---\n"
     ]
    }
   ],
   "source": [
    "# 13. Using the parquet DataFrame, run the last query above, that calculates\n",
    "# the average price of a home per \"view\" rating, rounded to two decimal places,\n",
    "# having an average home price greater than or equal to $350,000.\n",
    "# Determine the runtime and compare it to the cached runtime.\n",
    "\n",
    "start_time = time.time()\n",
    "\n",
    "spark.sql(query_avg_house_price_per_view_rating).show()\n",
    "\n",
    "print(\"--- %s seconds ---\" % (time.time() - start_time))"
   ]
  },
  {
   "cell_type": "code",
   "execution_count": 17,
   "metadata": {
    "colab": {
     "base_uri": "https://localhost:8080/"
    },
    "executionInfo": {
     "elapsed": 331,
     "status": "ok",
     "timestamp": 1729679372357,
     "user": {
      "displayName": "Greg Presneill",
      "userId": "00208314880832960294"
     },
     "user_tz": -660
    },
    "id": "hjjYzQGjtbq8",
    "outputId": "c2b65b90-a1d4-4b36-8b2a-d6f5fe200fc5"
   },
   "outputs": [
    {
     "data": {
      "text/plain": [
       "DataFrame[]"
      ]
     },
     "execution_count": 17,
     "metadata": {},
     "output_type": "execute_result"
    }
   ],
   "source": [
    "# 14. Uncache the home_sales temporary table.\n",
    "spark.sql(\"uncache table home_sales\")"
   ]
  },
  {
   "cell_type": "code",
   "execution_count": 18,
   "metadata": {
    "colab": {
     "base_uri": "https://localhost:8080/"
    },
    "executionInfo": {
     "elapsed": 379,
     "status": "ok",
     "timestamp": 1729679375979,
     "user": {
      "displayName": "Greg Presneill",
      "userId": "00208314880832960294"
     },
     "user_tz": -660
    },
    "id": "Sy9NBvO7tlmm",
    "outputId": "ceda93d0-2b8a-4602-8c39-e0197f0136db"
   },
   "outputs": [
    {
     "data": {
      "text/plain": [
       "False"
      ]
     },
     "execution_count": 18,
     "metadata": {},
     "output_type": "execute_result"
    }
   ],
   "source": [
    "# 15. Check if the home_sales is no longer cached\n",
    "spark.catalog.isCached('home_sales')\n"
   ]
  },
  {
   "cell_type": "code",
   "execution_count": null,
   "metadata": {
    "id": "lek-VAEC7LrR"
   },
   "outputs": [],
   "source": []
  }
 ],
 "metadata": {
  "colab": {
   "provenance": []
  },
  "gpuClass": "standard",
  "kernelspec": {
   "display_name": "Python 3 (ipykernel)",
   "language": "python",
   "name": "python3"
  },
  "language_info": {
   "codemirror_mode": {
    "name": "ipython",
    "version": 3
   },
   "file_extension": ".py",
   "mimetype": "text/x-python",
   "name": "python",
   "nbconvert_exporter": "python",
   "pygments_lexer": "ipython3",
   "version": "3.10.14"
  },
  "nteract": {
   "version": "0.28.0"
  }
 },
 "nbformat": 4,
 "nbformat_minor": 1
}
